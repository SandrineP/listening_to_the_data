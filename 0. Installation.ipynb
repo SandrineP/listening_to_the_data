{
 "cells": [
  {
   "cell_type": "markdown",
   "metadata": {},
   "source": [
    "# Installation of the required environment\n",
    "\n",
    "In this workshop, we will need:\n",
    "* Python 3.3 or greater\n",
    "* Jupyter\n",
    "* Pandas\n",
    "* Matplotlib\n",
    "\n",
    "According to your computer, there's different options for you to set up the enviroment needed for the workshop. The recommended option is to install Anaconda which included all of the above plus many other useful resources in Data Science. However, there may be cases that it is not an option and you have to install the above one by one."
   ]
  },
  {
   "cell_type": "markdown",
   "metadata": {},
   "source": [
    "# Option 1: Anaconda\n",
    "\n",
    "Please check if you fullfill the requirement on this page: https://docs.anaconda.com/anaconda/install/\n",
    "\n",
    "* License: Free use and redistribution under the terms of the End User License Agreement.\n",
    "* Operating system: Windows 7 or newer, 64-bit macOS 10.10+, or Linux, including Ubuntu, RedHat, CentOS 6+, and others.\n",
    "* System architecture: Windows- 64-bit x86, 32-bit x86; MacOS- 64-bit x86; Linux- 64-bit x86, 32-bit x86, 64-bit Power8/Power9.\n",
    "* Minimum 5 GB disk space to download and install.\n",
    "\n",
    "If everything looks good, you may download the installer here: https://www.anaconda.com/distribution/\n",
    "\n",
    "If your operating system is older than what is currently supported, you can find older versions of the Anaconda installers that might work for you. Check https://docs.anaconda.com/anaconda/user-guide/faq/#old-systems for version recommendations."
   ]
  },
  {
   "cell_type": "markdown",
   "metadata": {},
   "source": [
    "# Option 2: Miniconda + all the required libraries\n",
    "\n",
    "\n",
    "## Step 1: Miniconda\n",
    "\n",
    "Check the system requirement here: https://conda.io/projects/conda/en/latest/user-guide/install/index.html#system-requirements\n",
    "\n",
    "and if everything's good, download installer here: https://conda.io/en/latest/miniconda.html\n",
    "\n",
    "for Windows, after the download, double-clicked the .exe file and follow the instructions. If you are unsure about any setting, accept the defaults. You can change them later.\n",
    "\n",
    "## Step 2: Jupyter and the rest\n",
    "\n",
    "Open a command line interface. For Windows, go to start menu and search for CMD and open it.\n",
    "\n",
    "First update pip by typing:\n",
    "\n",
    "`pip3 install --upgrade pip`\n",
    "\n",
    "Then install Jupyter, type:\n",
    "\n",
    "`pip3 install jupyter`\n",
    "\n",
    "Then install pandas, type:\n",
    "\n",
    "`pip3 install pandas`\n",
    "\n",
    "Finally install Matplotlib by typing:\n",
    "\n",
    "`pip3 install matplotlib`"
   ]
  }
 ],
 "metadata": {
  "kernelspec": {
   "display_name": "Python 3",
   "language": "python",
   "name": "python3"
  },
  "language_info": {
   "codemirror_mode": {
    "name": "ipython",
    "version": 3
   },
   "file_extension": ".py",
   "mimetype": "text/x-python",
   "name": "python",
   "nbconvert_exporter": "python",
   "pygments_lexer": "ipython3",
   "version": "3.6.5"
  }
 },
 "nbformat": 4,
 "nbformat_minor": 2
}
